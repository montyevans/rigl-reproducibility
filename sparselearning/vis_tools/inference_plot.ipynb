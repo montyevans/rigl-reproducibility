{
 "cells": [
  {
   "cell_type": "code",
   "execution_count": 1,
   "metadata": {},
   "outputs": [],
   "source": [
    "import wandb\n",
    "import pandas as pd\n",
    "import matplotlib.pyplot as plt\n",
    "import numpy as np\n",
    "import os"
   ]
  },
  {
   "cell_type": "code",
   "execution_count": 2,
   "metadata": {},
   "outputs": [],
   "source": [
    "# Matplotlib font sizes\n",
    "TINY_SIZE = 8\n",
    "SMALL_SIZE = 12\n",
    "MEDIUM_SIZE = 14\n",
    "BIGGER_SIZE = 18\n",
    "\n",
    "plt.rc(\"font\", size=SMALL_SIZE)  # controls default text sizes\n",
    "plt.rc(\"axes\", titlesize=SMALL_SIZE)  # fontsize of the axes title\n",
    "plt.rc(\"axes\", labelsize=BIGGER_SIZE)  # fontsize of the x and y labels\n",
    "plt.rc(\"xtick\", labelsize=TINY_SIZE)  # fontsize of the tick labels\n",
    "plt.rc(\"ytick\", labelsize=SMALL_SIZE)  # fontsize of the tick labels\n",
    "plt.rc(\"legend\", fontsize=MEDIUM_SIZE)  # legend fontsize\n",
    "plt.rc(\"figure\", titlesize=BIGGER_SIZE)  # fontsize of the figure title\n",
    "\n",
    "plt.rc(\"axes\", grid=True)\n",
    "plt.rc(\"lines\", linewidth=4)\n",
    "plt.rc(\"savefig\", facecolor=\"white\")\n",
    "\n",
    "line_alpha = 0.8"
   ]
  },
  {
   "cell_type": "code",
   "execution_count": 3,
   "metadata": {},
   "outputs": [],
   "source": [
    "def export_legend(legend, filename=\"legend.png\"):\n",
    "    fig = legend.figure\n",
    "    fig.canvas.draw()\n",
    "    bbox = legend.get_window_extent().transformed(fig.dpi_scale_trans.inverted())\n",
    "    fig.savefig(filename, dpi=\"figure\", bbox_inches=bbox)"
   ]
  },
  {
   "cell_type": "code",
   "execution_count": 4,
   "metadata": {},
   "outputs": [],
   "source": [
    "def get_steps_and_col(df, col):\n",
    "    steps = np.array(df[\"_step\"])\n",
    "    vals = np.array(df[col])\n",
    "    ii = np.where(~np.isnan(np.array(vals)))\n",
    "    return steps[ii], vals[ii]"
   ]
  },
  {
   "cell_type": "code",
   "execution_count": 5,
   "metadata": {},
   "outputs": [],
   "source": [
    "MAX_SAMPLES = 1000000\n",
    "api = wandb.Api()"
   ]
  },
  {
   "cell_type": "code",
   "execution_count": 6,
   "metadata": {},
   "outputs": [],
   "source": [
    "riglsg, riglsm = list(\n",
    "    api.runs(\n",
    "        \"ml-reprod-2020/cifar100\",\n",
    "        filters={\n",
    "            \"state\": \"finished\",\n",
    "            \"config.seed\": 3,\n",
    "            \"config.masking.density\": 0.2,\n",
    "            \"config.masking.sparse_init\": \"random\",\n",
    "            \"config.masking.name\": \"RigL\",\n",
    "        },\n",
    "    )\n",
    ")"
   ]
  },
  {
   "cell_type": "code",
   "execution_count": 7,
   "metadata": {},
   "outputs": [],
   "source": [
    "random_name = \"Random\"\n",
    "erk_name = \"ERK\"\n",
    "sg_name = \"Sparse Grad\"\n",
    "sm_name = \"Sparse Mmt\""
   ]
  },
  {
   "cell_type": "code",
   "execution_count": 8,
   "metadata": {},
   "outputs": [],
   "source": [
    "rigl_random_flops = 0.2\n",
    "rigl_erk_flops = 0.38"
   ]
  },
  {
   "cell_type": "code",
   "execution_count": 9,
   "metadata": {},
   "outputs": [],
   "source": [
    "flop_col = \"Avg Inference FLOPs\"\n",
    "sg_history = riglsg.history(samples=MAX_SAMPLES)\n",
    "sm_history = riglsm.history(samples=MAX_SAMPLES)"
   ]
  },
  {
   "cell_type": "code",
   "execution_count": 10,
   "metadata": {},
   "outputs": [],
   "source": [
    "default_mpl_cycle = plt.rcParams[\"axes.prop_cycle\"].by_key()[\"color\"]\n",
    "\n",
    "names = [random_name, erk_name, sg_name, sm_name]\n",
    "\n",
    "COLORS = {}\n",
    "for i, k in enumerate(names):\n",
    "    COLORS[k] = default_mpl_cycle[i]"
   ]
  },
  {
   "cell_type": "code",
   "execution_count": 13,
   "metadata": {},
   "outputs": [],
   "source": [
    "from brokenaxes import brokenaxes"
   ]
  },
  {
   "cell_type": "code",
   "execution_count": 41,
   "metadata": {},
   "outputs": [
    {
     "data": {
      "image/png": "[encoded data removed]",
      "text/plain": [
       "<Figure size 360x360 with 3 Axes>"
      ]
     },
     "metadata": {
      "needs_background": "light"
     },
     "output_type": "display_data"
    }
   ],
   "source": [
    "name = f\"cifar100_inference_flops\"\n",
    "plt.figure(figsize=(5, 5))\n",
    "\n",
    "bax = brokenaxes(xlims=((-1000, 20100), (70000, 90100)), wspace=0.35)\n",
    "\n",
    "\n",
    "bax.axhline(\n",
    "    rigl_random_flops, label=random_name, alpha=line_alpha, color=COLORS[random_name]\n",
    ")\n",
    "bax.axhline(rigl_erk_flops, label=erk_name, alpha=line_alpha, color=COLORS[erk_name])\n",
    "bax.plot(\n",
    "    *get_steps_and_col(sg_history, flop_col),\n",
    "    label=sg_name,\n",
    "    alpha=line_alpha,\n",
    "    color=COLORS[sg_name],\n",
    ")\n",
    "bax.plot(\n",
    "    *get_steps_and_col(sm_history, flop_col),\n",
    "    label=sm_name,\n",
    "    alpha=line_alpha,\n",
    "    color=COLORS[sm_name],\n",
    ")\n",
    "\n",
    "bax.set_xlabel(\"Step\")\n",
    "bax.set_ylabel(\"Inference Flops\")\n",
    "\n",
    "# plt.subplots_adjust(left=0.18)\n",
    "# legend = bax.legend(bbox_to_anchor=(1, 1), loc=\"upper left\", frameon=False)\n",
    "legend = bax.legend(loc=\"upper right\")\n",
    "export_legend(legend, f\"figs/pdfs/{name}_legend.pdf\")\n",
    "\n",
    "plt.savefig(f\"figs/pdfs/{name}.pdf\", bbox_inches=\"tight\")\n",
    "plt.savefig(f\"figs/pngs/{name}.png\", bbox_inches=\"tight\")\n",
    "\n",
    "\n",
    "plt.show()"
   ]
  },
  {
   "cell_type": "code",
   "execution_count": null,
   "metadata": {},
   "outputs": [],
   "source": []
  },
  {
   "cell_type": "code",
   "execution_count": null,
   "metadata": {},
   "outputs": [],
   "source": []
  }
 ],
 "metadata": {
  "jupytext": {
   "formats": "ipynb,py:hydrogen"
  },
  "kernelspec": {
   "display_name": "Python [conda env:sparse-learning] *",
   "language": "python",
   "name": "conda-env-sparse-learning-py"
  },
  "language_info": {
   "codemirror_mode": {
    "name": "ipython",
    "version": 3
   },
   "file_extension": ".py",
   "mimetype": "text/x-python",
   "name": "python",
   "nbconvert_exporter": "python",
   "pygments_lexer": "ipython3",
   "version": "3.7.9"
  }
 },
 "nbformat": 4,
 "nbformat_minor": 4
}
